{
 "cells": [
  {
   "cell_type": "code",
   "execution_count": 15,
   "metadata": {},
   "outputs": [],
   "source": [
    "import cv2"
   ]
  },
  {
   "cell_type": "code",
   "execution_count": 18,
   "metadata": {},
   "outputs": [],
   "source": [
    "cap=cv2.VideoCapture(0)\n",
    "while cap.isOpened():\n",
    "    ret,back=cap.read()\n",
    "    if ret:\n",
    "        cv2.imshow(\"background\",back)\n",
    "        if cv2.waitKey(5)==ord(\"q\"):\n",
    "            cv2.imwrite(\"image.jpg\",back)\n",
    "            break\n",
    "cap.release()\n",
    "cv2.destroyAllWindows()"
   ]
  },
  {
   "cell_type": "code",
   "execution_count": 20,
   "metadata": {},
   "outputs": [],
   "source": [
    "cap=cv2.VideoCapture(0)\n",
    "import numpy as np\n",
    "back=cv2.imread(\"image.jpg\")\n",
    "\n",
    "while cap.isOpened():\n",
    "    ret,frame=cap.read()\n",
    "    if ret:\n",
    "#         cv2.imwrite(\"image.jpg\",frame)\n",
    "        hsv=cv2.cvtColor(frame,cv2.COLOR_BGR2HSV)\n",
    "        cv2.imshow(\"HSV\",hsv)\n",
    "        l_red=np.array([34,0,45])\n",
    "        u_red=np.array([119,255,255]) \n",
    "        mask=cv2.inRange(hsv,l_red,u_red)\n",
    "        cv2.imshow(\"mask\",mask)\n",
    "        part1=cv2.bitwise_and(back,back,mask=mask)\n",
    "        cv2.imshow(\"part\",part1)\n",
    "        mask=cv2.bitwise_not(mask)\n",
    "        part2=cv2.bitwise_and(frame,frame,mask=mask)\n",
    "        cv2.imshow(\"part2\",part2)\n",
    "        cv2.imshow(\"cloak\",part1+part2)\n",
    "        if cv2.waitKey(5)==ord(\"q\"):\n",
    "            break\n",
    "\n",
    "cap.release()\n",
    "cv2.destroyAllWindows()"
   ]
  },
  {
   "cell_type": "code",
   "execution_count": null,
   "metadata": {},
   "outputs": [],
   "source": []
  }
 ],
 "metadata": {
  "kernelspec": {
   "display_name": "Python 3",
   "language": "python",
   "name": "python3"
  },
  "language_info": {
   "codemirror_mode": {
    "name": "ipython",
    "version": 3
   },
   "file_extension": ".py",
   "mimetype": "text/x-python",
   "name": "python",
   "nbconvert_exporter": "python",
   "pygments_lexer": "ipython3",
   "version": "3.7.4"
  }
 },
 "nbformat": 4,
 "nbformat_minor": 2
}
